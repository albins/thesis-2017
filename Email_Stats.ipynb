{
 "cells": [
  {
   "cell_type": "code",
   "execution_count": 5,
   "metadata": {
    "collapsed": true
   },
   "outputs": [],
   "source": [
    "import parse_emails\n",
    "import mailbox"
   ]
  },
  {
   "cell_type": "code",
   "execution_count": 56,
   "metadata": {},
   "outputs": [
    {
     "name": "stdout",
     "output_type": "stream",
     "text": [
      "parse_emails WARNING: Mail \"Re: HA Group Notification from dbnasr5032 (DISK REDUNDANCY FAILED)\n",
      " WARNING\" does not have any attachments\n",
      "parse_emails WARNING: Mail \"Re: HA Group Notification from dbnasr5032 (DISK REDUNDANCY FAILED)\n",
      " WARNING\" does not have any attachments\n",
      "parse_emails WARNING: Mail \"Re: HA Group Notification from dbnasr5032 (DISK REDUNDANCY FAILED)\n",
      " WARNING\" does not have any attachments\n",
      "parse_emails WARNING: Mail \"Re: HA Group Notification from dbnasr5032 (DISK REDUNDANCY FAILED)\n",
      " WARNING\" does not have any attachments\n",
      "parse_emails WARNING: Mail \"Re: HA Group Notification from dbnasr5032 (DISK REDUNDANCY FAILED)\n",
      " WARNING\" does not have any attachments\n",
      "parse_emails WARNING: Mail \"Re: HA Group Notification from dbnasr5032 (DISK REDUNDANCY FAILED)\n",
      " WARNING\" does not have any attachments\n",
      "parse_emails WARNING: Mail \"Re: HA Group Notification from dbnasr5032 (DISK REDUNDANCY FAILED)\n",
      " WARNING\" does not have any attachments\n",
      "parse_emails WARNING: Mail \"Re: HA Group Notification from dbnasr5032 (DISK REDUNDANCY FAILED)\n",
      " WARNING\" does not have any attachments\n",
      "parse_emails WARNING: Mail \"RE: HA Group Notification from dbnasr5032 (DISK REDUNDANCY FAILED)\n",
      " WARNING\" does not have any attachments\n",
      "parse_emails WARNING: Mail \"RE: HA Group Notification from dbnasr5032 (DISK REDUNDANCY FAILED)\n",
      " WARNING\" does not have any attachments\n",
      "parse_emails WARNING: Mail \"RE: HA Group Notification from dbnasr5032 (DISK REDUNDANCY FAILED)\n",
      " WARNING\" does not have any attachments\n",
      "parse_emails WARNING: Mail \"RE: HA Group Notification from dbnasr5032 (DISK REDUNDANCY FAILED)\n",
      " WARNING\" does not have any attachments\n",
      "parse_emails WARNING: Mail \"RE: HA Group Notification from dbnasr5032 (DISK REDUNDANCY FAILED)\n",
      " WARNING\" does not have any attachments\n",
      "parse_emails WARNING: Mail \"RE: HA Group Notification from dbnasr5032 (DISK REDUNDANCY FAILED)\n",
      " WARNING\" does not have any attachments\n",
      "parse_emails WARNING: Mail \"RE: HA Group Notification from dbnasr5032 (DISK REDUNDANCY FAILED)\n",
      " WARNING\" does not have any attachments\n",
      "parse_emails WARNING: Mail \"RE: HA Group Notification from dbnasr5032 (DISK REDUNDANCY FAILED)\n",
      " WARNING\" does not have any attachments\n",
      "parse_emails WARNING: Mail \"HA Group Notification from dbnasg301 (DISK REDUNDANCY FAILED) WARNING\" does not have any attachments\n",
      "parse_emails WARNING: Mail \"HA Group Notification from dbnasg301 (DISK REDUNDANCY FAILED) WARNING\" does not have any attachments\n",
      "parse_emails WARNING: Mail \"HA Group Notification from dbnasg301 (DISK REDUNDANCY FAILED) WARNING\" does not have any attachments\n",
      "parse_emails WARNING: Mail \"HA Group Notification from dbnasg301 (DISK REDUNDANCY FAILED) WARNING\" does not have any attachments\n",
      "parse_emails WARNING: Mail \"HA Group Notification from dbnasg301 (DISK REDUNDANCY FAILED) WARNING\" does not have any attachments\n",
      "parse_emails WARNING: Mail \"HA Group Notification from dbnasg301 (DISK REDUNDANCY FAILED) WARNING\" does not have any attachments\n",
      "parse_emails WARNING: Mail \"HA Group Notification from dbnasg301 (DISK REDUNDANCY FAILED) WARNING\" does not have any attachments\n",
      "parse_emails WARNING: Mail \"HA Group Notification from dbnasg301 (DISK REDUNDANCY FAILED) WARNING\" does not have any attachments\n",
      "parse_emails WARNING: Mail \"HA Group Notification from dbnasg302 (DISK REDUNDANCY FAILED) WARNING\" does not have any attachments\n",
      "parse_emails WARNING: Mail \"HA Group Notification from dbnasg302 (DISK REDUNDANCY FAILED) WARNING\" does not have any attachments\n",
      "parse_emails WARNING: Mail \"HA Group Notification from dbnasg302 (DISK REDUNDANCY FAILED) WARNING\" does not have any attachments\n",
      "parse_emails WARNING: Mail \"HA Group Notification from dbnasg302 (DISK REDUNDANCY FAILED) WARNING\" does not have any attachments\n",
      "parse_emails WARNING: Mail \"HA Group Notification from dbnasg302 (DISK REDUNDANCY FAILED) WARNING\" does not have any attachments\n",
      "parse_emails WARNING: Mail \"HA Group Notification from dbnasg302 (DISK REDUNDANCY FAILED) WARNING\" does not have any attachments\n",
      "parse_emails WARNING: Mail \"HA Group Notification from dbnasg302 (DISK REDUNDANCY FAILED) WARNING\" does not have any attachments\n",
      "parse_emails WARNING: Mail \"HA Group Notification from dbnasg302 (DISK REDUNDANCY FAILED) WARNING\" does not have any attachments\n",
      "parse_emails WARNING: Mail \"HA Group Notification from dbnasg302 (DISK REDUNDANCY FAILED) WARNING\" does not have any attachments\n",
      "parse_emails WARNING: Mail \"HA Group Notification from dbnasg302 (DISK REDUNDANCY FAILED) WARNING\" does not have any attachments\n",
      "parse_emails WARNING: Mail \"HA Group Notification from dbnasg302 (DISK REDUNDANCY FAILED) WARNING\" does not have any attachments\n",
      "parse_emails WARNING: Mail \"HA Group Notification from dbnasg302 (DISK REDUNDANCY FAILED) WARNING\" does not have any attachments\n",
      "parse_emails WARNING: Mail \"HA Group Notification from dbnasg302 (DISK REDUNDANCY FAILED) WARNING\" does not have any attachments\n",
      "parse_emails WARNING: Mail \"HA Group Notification from dbnasg302 (DISK REDUNDANCY FAILED) WARNING\" does not have any attachments\n",
      "parse_emails WARNING: Mail \"HA Group Notification from dbnasg302 (DISK REDUNDANCY FAILED) WARNING\" does not have any attachments\n",
      "parse_emails WARNING: Mail \"HA Group Notification from dbnasg302 (DISK REDUNDANCY FAILED) WARNING\" does not have any attachments\n",
      "parse_emails WARNING: Mail \"RE: HA Group Notification from dbnast1352 (FILESYSTEM DISK FAILED)\n",
      " WARNING\" does not have any attachments\n",
      "parse_emails WARNING: Mail \"RE: HA Group Notification from dbnast1352 (FILESYSTEM DISK FAILED)\n",
      " WARNING\" does not have any attachments\n",
      "parse_emails WARNING: Mail \"RE: HA Group Notification from dbnast1352 (FILESYSTEM DISK FAILED)\n",
      " WARNING\" does not have any attachments\n",
      "parse_emails WARNING: Mail \"RE: HA Group Notification from dbnast1352 (FILESYSTEM DISK FAILED)\n",
      " WARNING\" does not have any attachments\n",
      "parse_emails WARNING: Mail \"RE: HA Group Notification from dbnast1352 (FILESYSTEM DISK FAILED)\n",
      " WARNING\" does not have any attachments\n",
      "parse_emails WARNING: Mail \"RE: HA Group Notification from dbnast1352 (FILESYSTEM DISK FAILED)\n",
      " WARNING\" does not have any attachments\n",
      "parse_emails WARNING: Mail \"RE: HA Group Notification from dbnast1352 (FILESYSTEM DISK FAILED)\n",
      " WARNING\" does not have any attachments\n",
      "parse_emails WARNING: Mail \"RE: HA Group Notification from dbnast1352 (FILESYSTEM DISK FAILED)\n",
      " WARNING\" does not have any attachments\n",
      "parse_emails WARNING: Mail \"Re: HA Group Notification from dbnasb401 (DISK REDUNDANCY FAILED)\n",
      " WARNING\" does not have any attachments\n",
      "parse_emails WARNING: Mail \"Re: HA Group Notification from dbnasb401 (DISK REDUNDANCY FAILED)\n",
      " WARNING\" does not have any attachments\n",
      "parse_emails WARNING: Mail \"Re: HA Group Notification from dbnasb401 (DISK REDUNDANCY FAILED)\n",
      " WARNING\" does not have any attachments\n",
      "parse_emails WARNING: Mail \"Re: HA Group Notification from dbnasb401 (DISK REDUNDANCY FAILED)\n",
      " WARNING\" does not have any attachments\n",
      "parse_emails WARNING: Mail \"Re: HA Group Notification from dbnasb401 (DISK REDUNDANCY FAILED)\n",
      " WARNING\" does not have any attachments\n",
      "parse_emails WARNING: Mail \"Re: HA Group Notification from dbnasb401 (DISK REDUNDANCY FAILED)\n",
      " WARNING\" does not have any attachments\n",
      "parse_emails WARNING: Mail \"Re: HA Group Notification from dbnasb401 (DISK REDUNDANCY FAILED)\n",
      " WARNING\" does not have any attachments\n",
      "parse_emails WARNING: Mail \"Re: HA Group Notification from dbnasb401 (DISK REDUNDANCY FAILED)\n",
      " WARNING\" does not have any attachments\n"
     ]
    }
   ],
   "source": [
    "mail_file = \"../email/Albin_disks\"\n",
    "results = list(map(parse_emails.parse_mail, mailbox.mbox(mail_file)))"
   ]
  },
  {
   "cell_type": "code",
   "execution_count": 131,
   "metadata": {},
   "outputs": [
    {
     "data": {
      "text/plain": [
       "['X306_HJUPI02TSSM',\n",
       " 'X306_WMANT02TSSM',\n",
       " 'X308_HMARK03TSSM',\n",
       " 'X308_HMARK03TSSM',\n",
       " 'X308_HMARK03TSSM',\n",
       " 'X306_WMANT02TSSM',\n",
       " 'X306_WMANT02TSSM',\n",
       " 'X306_HJUPI02TSSM',\n",
       " 'X306_WMANT02TSSM',\n",
       " 'X306_HJUPI02TSSM',\n",
       " 'X306_HJUPI02TSSM',\n",
       " 'X306_HJUPI02TSSM']"
      ]
     },
     "execution_count": 131,
     "metadata": {},
     "output_type": "execute_result"
    }
   ],
   "source": [
    "good_results = [r for r in results if r['parts_data'] and r['parts_data']['registry']]\n",
    "sum([[d['model'] for d in res['parts_data']['registry'] if d['device'] != 'NotPresent'] for res in good_results if res['cluster'] == 'nasb'], [])\n"
   ]
  },
  {
   "cell_type": "code",
   "execution_count": 121,
   "metadata": {},
   "outputs": [
    {
     "data": {
      "image/png": "[encoded data removed]",
      "text/plain": [
       "<matplotlib.figure.Figure at 0x150ebb780>"
      ]
     },
     "metadata": {},
     "output_type": "display_data"
    }
   ],
   "source": [
    "analysis = parse_emails.analyse_data(results)\n",
    "import matplotlib.pyplot as plt\n",
    "fig, ax = plt.subplots(figsize=(20,10))\n",
    "for cluster, dates in analysis['fault_times'].items():\n",
    "    ax.hist(dates, label=cluster)\n",
    "legend = ax.legend(loc='upper center', shadow=False)\n",
    "plt.show()\n",
    "\n"
   ]
  },
  {
   "cell_type": "code",
   "execution_count": null,
   "metadata": {
    "collapsed": true
   },
   "outputs": [],
   "source": []
  }
 ],
 "metadata": {
  "kernelspec": {
   "display_name": "Python 3",
   "language": "python",
   "name": "python3"
  },
  "language_info": {
   "codemirror_mode": {
    "name": "ipython",
    "version": 3
   },
   "file_extension": ".py",
   "mimetype": "text/x-python",
   "name": "python",
   "nbconvert_exporter": "python",
   "pygments_lexer": "ipython3",
   "version": "3.6.1"
  }
 },
 "nbformat": 4,
 "nbformat_minor": 2
}
